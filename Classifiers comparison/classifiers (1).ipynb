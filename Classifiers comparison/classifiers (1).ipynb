{
 "cells": [
  {
   "cell_type": "markdown",
   "metadata": {},
   "source": [
    "## Necessary Imports"
   ]
  },
  {
   "cell_type": "code",
   "execution_count": 20,
   "metadata": {},
   "outputs": [],
   "source": [
    "import numpy as np\n",
    "import matplotlib.pyplot as plt\n",
    "import h5py\n",
    "from sklearn.metrics import f1_score, recall_score, precision_score, accuracy_score\n",
    "from sklearn import svm\n",
    "from sklearn.model_selection import train_test_split\n",
    "from sklearn.svm import SVC \n",
    "from sklearn.tree import DecisionTreeClassifier \n",
    "from sklearn.neural_network import MLPClassifier\n",
    "import pandas as pd\n",
    "import csv\n",
    "from sklearn.preprocessing import StandardScaler\n",
    "from sklearn.decomposition import PCA\n",
    "from sklearn.linear_model import Perceptron\n",
    "from sklearn.discriminant_analysis import LinearDiscriminantAnalysis\n",
    "from sklearn.naive_bayes import GaussianNB"
   ]
  },
  {
   "cell_type": "markdown",
   "metadata": {},
   "source": [
    "## Parkinsons Data Set"
   ]
  },
  {
   "cell_type": "markdown",
   "metadata": {},
   "source": [
    "### Source"
   ]
  },
  {
   "cell_type": "markdown",
   "metadata": {},
   "source": [
    "The dataset was created by Max Little of the University of Oxford, in collaboration with the National Centre for Voice and Speech, Denver, Colorado, who recorded the speech signals. The original study published the feature extraction methods for general voice disorders."
   ]
  },
  {
   "cell_type": "markdown",
   "metadata": {},
   "source": [
    "### Data Set Information"
   ]
  },
  {
   "cell_type": "markdown",
   "metadata": {},
   "source": [
    "This dataset is composed of a range of biomedical voice measurements from 31 people, 23 with Parkinson's disease (PD). Each column in the table is a particular voice measure, and each row corresponds one of 195 voice recording from these individuals (\"name\" column). The main aim of the data is to discriminate healthy people from those with PD, according to \"status\" column which is set to 0 for healthy and 1 for PD."
   ]
  },
  {
   "cell_type": "markdown",
   "metadata": {},
   "source": [
    "### Attribute Information"
   ]
  },
  {
   "cell_type": "markdown",
   "metadata": {},
   "source": [
    "Matrix column entries (attributes):\n",
    "<br>\n",
    "name - ASCII subject name and recording number\n",
    "<br>\n",
    "MDVP:Fo(Hz) - Average vocal fundamental frequency\n",
    "<br>\n",
    "MDVP:Fhi(Hz) - Maximum vocal fundamental frequency\n",
    "<br>\n",
    "MDVP:Flo(Hz) - Minimum vocal fundamental frequency\n",
    "<br>\n",
    "MDVP:Jitter(%),MDVP:Jitter(Abs),MDVP:RAP,MDVP:PPQ,Jitter:DDP - Several measures of variation in fundamental frequency\n",
    "<br>\n",
    "MDVP:Shimmer,MDVP:Shimmer(dB),Shimmer:APQ3,Shimmer:APQ5,MDVP:APQ,Shimmer:DDA - Several measures of variation in amplitude\n",
    "<br>\n",
    "NHR,HNR - Two measures of ratio of noise to tonal components in the voice\n",
    "<br>\n",
    "status - Health status of the subject (one) - Parkinson's, (zero) - healthy\n",
    "<br>\n",
    "RPDE,D2 - Two nonlinear dynamical complexity measures\n",
    "<br>\n",
    "DFA - Signal fractal scaling exponent\n",
    "<br>\n",
    "spread1,spread2,PPE - Three nonlinear measures of fundamental frequency variation"
   ]
  },
  {
   "cell_type": "markdown",
   "metadata": {},
   "source": [
    "### Features Type\n",
    "All features are numeric."
   ]
  },
  {
   "cell_type": "markdown",
   "metadata": {},
   "source": [
    "## Read and store data"
   ]
  },
  {
   "cell_type": "code",
   "execution_count": 2,
   "metadata": {},
   "outputs": [],
   "source": [
    "data = pd.read_csv('parkinsons.data')"
   ]
  },
  {
   "cell_type": "code",
   "execution_count": 3,
   "metadata": {},
   "outputs": [
    {
     "name": "stdout",
     "output_type": "stream",
     "text": [
      "195\n"
     ]
    }
   ],
   "source": [
    "print(data.shape[0])"
   ]
  },
  {
   "cell_type": "code",
   "execution_count": 4,
   "metadata": {},
   "outputs": [
    {
     "name": "stdout",
     "output_type": "stream",
     "text": [
      "195 24\n"
     ]
    }
   ],
   "source": [
    "print(data.shape[0], data.shape[1])"
   ]
  },
  {
   "cell_type": "markdown",
   "metadata": {},
   "source": [
    "## Data Description"
   ]
  },
  {
   "cell_type": "code",
   "execution_count": 5,
   "metadata": {},
   "outputs": [
    {
     "data": {
      "text/html": [
       "<div>\n",
       "<style scoped>\n",
       "    .dataframe tbody tr th:only-of-type {\n",
       "        vertical-align: middle;\n",
       "    }\n",
       "\n",
       "    .dataframe tbody tr th {\n",
       "        vertical-align: top;\n",
       "    }\n",
       "\n",
       "    .dataframe thead th {\n",
       "        text-align: right;\n",
       "    }\n",
       "</style>\n",
       "<table border=\"1\" class=\"dataframe\">\n",
       "  <thead>\n",
       "    <tr style=\"text-align: right;\">\n",
       "      <th></th>\n",
       "      <th>MDVP:Fo(Hz)</th>\n",
       "      <th>MDVP:Fhi(Hz)</th>\n",
       "      <th>MDVP:Flo(Hz)</th>\n",
       "      <th>MDVP:Jitter(%)</th>\n",
       "      <th>MDVP:Jitter(Abs)</th>\n",
       "      <th>MDVP:RAP</th>\n",
       "      <th>MDVP:PPQ</th>\n",
       "      <th>Jitter:DDP</th>\n",
       "      <th>MDVP:Shimmer</th>\n",
       "      <th>MDVP:Shimmer(dB)</th>\n",
       "      <th>...</th>\n",
       "      <th>Shimmer:DDA</th>\n",
       "      <th>NHR</th>\n",
       "      <th>HNR</th>\n",
       "      <th>status</th>\n",
       "      <th>RPDE</th>\n",
       "      <th>DFA</th>\n",
       "      <th>spread1</th>\n",
       "      <th>spread2</th>\n",
       "      <th>D2</th>\n",
       "      <th>PPE</th>\n",
       "    </tr>\n",
       "  </thead>\n",
       "  <tbody>\n",
       "    <tr>\n",
       "      <th>count</th>\n",
       "      <td>195.000000</td>\n",
       "      <td>195.000000</td>\n",
       "      <td>195.000000</td>\n",
       "      <td>195.000000</td>\n",
       "      <td>195.000000</td>\n",
       "      <td>195.000000</td>\n",
       "      <td>195.000000</td>\n",
       "      <td>195.000000</td>\n",
       "      <td>195.000000</td>\n",
       "      <td>195.000000</td>\n",
       "      <td>...</td>\n",
       "      <td>195.000000</td>\n",
       "      <td>195.000000</td>\n",
       "      <td>195.000000</td>\n",
       "      <td>195.000000</td>\n",
       "      <td>195.000000</td>\n",
       "      <td>195.000000</td>\n",
       "      <td>195.000000</td>\n",
       "      <td>195.000000</td>\n",
       "      <td>195.000000</td>\n",
       "      <td>195.000000</td>\n",
       "    </tr>\n",
       "    <tr>\n",
       "      <th>mean</th>\n",
       "      <td>154.228641</td>\n",
       "      <td>197.104918</td>\n",
       "      <td>116.324631</td>\n",
       "      <td>0.006220</td>\n",
       "      <td>0.000044</td>\n",
       "      <td>0.003306</td>\n",
       "      <td>0.003446</td>\n",
       "      <td>0.009920</td>\n",
       "      <td>0.029709</td>\n",
       "      <td>0.282251</td>\n",
       "      <td>...</td>\n",
       "      <td>0.046993</td>\n",
       "      <td>0.024847</td>\n",
       "      <td>21.885974</td>\n",
       "      <td>0.753846</td>\n",
       "      <td>0.498536</td>\n",
       "      <td>0.718099</td>\n",
       "      <td>-5.684397</td>\n",
       "      <td>0.226510</td>\n",
       "      <td>2.381826</td>\n",
       "      <td>0.206552</td>\n",
       "    </tr>\n",
       "    <tr>\n",
       "      <th>std</th>\n",
       "      <td>41.390065</td>\n",
       "      <td>91.491548</td>\n",
       "      <td>43.521413</td>\n",
       "      <td>0.004848</td>\n",
       "      <td>0.000035</td>\n",
       "      <td>0.002968</td>\n",
       "      <td>0.002759</td>\n",
       "      <td>0.008903</td>\n",
       "      <td>0.018857</td>\n",
       "      <td>0.194877</td>\n",
       "      <td>...</td>\n",
       "      <td>0.030459</td>\n",
       "      <td>0.040418</td>\n",
       "      <td>4.425764</td>\n",
       "      <td>0.431878</td>\n",
       "      <td>0.103942</td>\n",
       "      <td>0.055336</td>\n",
       "      <td>1.090208</td>\n",
       "      <td>0.083406</td>\n",
       "      <td>0.382799</td>\n",
       "      <td>0.090119</td>\n",
       "    </tr>\n",
       "    <tr>\n",
       "      <th>min</th>\n",
       "      <td>88.333000</td>\n",
       "      <td>102.145000</td>\n",
       "      <td>65.476000</td>\n",
       "      <td>0.001680</td>\n",
       "      <td>0.000007</td>\n",
       "      <td>0.000680</td>\n",
       "      <td>0.000920</td>\n",
       "      <td>0.002040</td>\n",
       "      <td>0.009540</td>\n",
       "      <td>0.085000</td>\n",
       "      <td>...</td>\n",
       "      <td>0.013640</td>\n",
       "      <td>0.000650</td>\n",
       "      <td>8.441000</td>\n",
       "      <td>0.000000</td>\n",
       "      <td>0.256570</td>\n",
       "      <td>0.574282</td>\n",
       "      <td>-7.964984</td>\n",
       "      <td>0.006274</td>\n",
       "      <td>1.423287</td>\n",
       "      <td>0.044539</td>\n",
       "    </tr>\n",
       "    <tr>\n",
       "      <th>25%</th>\n",
       "      <td>117.572000</td>\n",
       "      <td>134.862500</td>\n",
       "      <td>84.291000</td>\n",
       "      <td>0.003460</td>\n",
       "      <td>0.000020</td>\n",
       "      <td>0.001660</td>\n",
       "      <td>0.001860</td>\n",
       "      <td>0.004985</td>\n",
       "      <td>0.016505</td>\n",
       "      <td>0.148500</td>\n",
       "      <td>...</td>\n",
       "      <td>0.024735</td>\n",
       "      <td>0.005925</td>\n",
       "      <td>19.198000</td>\n",
       "      <td>1.000000</td>\n",
       "      <td>0.421306</td>\n",
       "      <td>0.674758</td>\n",
       "      <td>-6.450096</td>\n",
       "      <td>0.174351</td>\n",
       "      <td>2.099125</td>\n",
       "      <td>0.137451</td>\n",
       "    </tr>\n",
       "    <tr>\n",
       "      <th>50%</th>\n",
       "      <td>148.790000</td>\n",
       "      <td>175.829000</td>\n",
       "      <td>104.315000</td>\n",
       "      <td>0.004940</td>\n",
       "      <td>0.000030</td>\n",
       "      <td>0.002500</td>\n",
       "      <td>0.002690</td>\n",
       "      <td>0.007490</td>\n",
       "      <td>0.022970</td>\n",
       "      <td>0.221000</td>\n",
       "      <td>...</td>\n",
       "      <td>0.038360</td>\n",
       "      <td>0.011660</td>\n",
       "      <td>22.085000</td>\n",
       "      <td>1.000000</td>\n",
       "      <td>0.495954</td>\n",
       "      <td>0.722254</td>\n",
       "      <td>-5.720868</td>\n",
       "      <td>0.218885</td>\n",
       "      <td>2.361532</td>\n",
       "      <td>0.194052</td>\n",
       "    </tr>\n",
       "    <tr>\n",
       "      <th>75%</th>\n",
       "      <td>182.769000</td>\n",
       "      <td>224.205500</td>\n",
       "      <td>140.018500</td>\n",
       "      <td>0.007365</td>\n",
       "      <td>0.000060</td>\n",
       "      <td>0.003835</td>\n",
       "      <td>0.003955</td>\n",
       "      <td>0.011505</td>\n",
       "      <td>0.037885</td>\n",
       "      <td>0.350000</td>\n",
       "      <td>...</td>\n",
       "      <td>0.060795</td>\n",
       "      <td>0.025640</td>\n",
       "      <td>25.075500</td>\n",
       "      <td>1.000000</td>\n",
       "      <td>0.587562</td>\n",
       "      <td>0.761881</td>\n",
       "      <td>-5.046192</td>\n",
       "      <td>0.279234</td>\n",
       "      <td>2.636456</td>\n",
       "      <td>0.252980</td>\n",
       "    </tr>\n",
       "    <tr>\n",
       "      <th>max</th>\n",
       "      <td>260.105000</td>\n",
       "      <td>592.030000</td>\n",
       "      <td>239.170000</td>\n",
       "      <td>0.033160</td>\n",
       "      <td>0.000260</td>\n",
       "      <td>0.021440</td>\n",
       "      <td>0.019580</td>\n",
       "      <td>0.064330</td>\n",
       "      <td>0.119080</td>\n",
       "      <td>1.302000</td>\n",
       "      <td>...</td>\n",
       "      <td>0.169420</td>\n",
       "      <td>0.314820</td>\n",
       "      <td>33.047000</td>\n",
       "      <td>1.000000</td>\n",
       "      <td>0.685151</td>\n",
       "      <td>0.825288</td>\n",
       "      <td>-2.434031</td>\n",
       "      <td>0.450493</td>\n",
       "      <td>3.671155</td>\n",
       "      <td>0.527367</td>\n",
       "    </tr>\n",
       "  </tbody>\n",
       "</table>\n",
       "<p>8 rows × 23 columns</p>\n",
       "</div>"
      ],
      "text/plain": [
       "       MDVP:Fo(Hz)  MDVP:Fhi(Hz)  MDVP:Flo(Hz)  MDVP:Jitter(%)  \\\n",
       "count   195.000000    195.000000    195.000000      195.000000   \n",
       "mean    154.228641    197.104918    116.324631        0.006220   \n",
       "std      41.390065     91.491548     43.521413        0.004848   \n",
       "min      88.333000    102.145000     65.476000        0.001680   \n",
       "25%     117.572000    134.862500     84.291000        0.003460   \n",
       "50%     148.790000    175.829000    104.315000        0.004940   \n",
       "75%     182.769000    224.205500    140.018500        0.007365   \n",
       "max     260.105000    592.030000    239.170000        0.033160   \n",
       "\n",
       "       MDVP:Jitter(Abs)    MDVP:RAP    MDVP:PPQ  Jitter:DDP  MDVP:Shimmer  \\\n",
       "count        195.000000  195.000000  195.000000  195.000000    195.000000   \n",
       "mean           0.000044    0.003306    0.003446    0.009920      0.029709   \n",
       "std            0.000035    0.002968    0.002759    0.008903      0.018857   \n",
       "min            0.000007    0.000680    0.000920    0.002040      0.009540   \n",
       "25%            0.000020    0.001660    0.001860    0.004985      0.016505   \n",
       "50%            0.000030    0.002500    0.002690    0.007490      0.022970   \n",
       "75%            0.000060    0.003835    0.003955    0.011505      0.037885   \n",
       "max            0.000260    0.021440    0.019580    0.064330      0.119080   \n",
       "\n",
       "       MDVP:Shimmer(dB)  ...  Shimmer:DDA         NHR         HNR      status  \\\n",
       "count        195.000000  ...   195.000000  195.000000  195.000000  195.000000   \n",
       "mean           0.282251  ...     0.046993    0.024847   21.885974    0.753846   \n",
       "std            0.194877  ...     0.030459    0.040418    4.425764    0.431878   \n",
       "min            0.085000  ...     0.013640    0.000650    8.441000    0.000000   \n",
       "25%            0.148500  ...     0.024735    0.005925   19.198000    1.000000   \n",
       "50%            0.221000  ...     0.038360    0.011660   22.085000    1.000000   \n",
       "75%            0.350000  ...     0.060795    0.025640   25.075500    1.000000   \n",
       "max            1.302000  ...     0.169420    0.314820   33.047000    1.000000   \n",
       "\n",
       "             RPDE         DFA     spread1     spread2          D2         PPE  \n",
       "count  195.000000  195.000000  195.000000  195.000000  195.000000  195.000000  \n",
       "mean     0.498536    0.718099   -5.684397    0.226510    2.381826    0.206552  \n",
       "std      0.103942    0.055336    1.090208    0.083406    0.382799    0.090119  \n",
       "min      0.256570    0.574282   -7.964984    0.006274    1.423287    0.044539  \n",
       "25%      0.421306    0.674758   -6.450096    0.174351    2.099125    0.137451  \n",
       "50%      0.495954    0.722254   -5.720868    0.218885    2.361532    0.194052  \n",
       "75%      0.587562    0.761881   -5.046192    0.279234    2.636456    0.252980  \n",
       "max      0.685151    0.825288   -2.434031    0.450493    3.671155    0.527367  \n",
       "\n",
       "[8 rows x 23 columns]"
      ]
     },
     "execution_count": 5,
     "metadata": {},
     "output_type": "execute_result"
    }
   ],
   "source": [
    "data.describe()"
   ]
  },
  {
   "cell_type": "markdown",
   "metadata": {},
   "source": [
    "## Data visualization using histogram"
   ]
  },
  {
   "cell_type": "code",
   "execution_count": 6,
   "metadata": {},
   "outputs": [
    {
     "data": {
      "image/png": "[encoded data removed]",
      "text/plain": [
       "<Figure size 432x288 with 20 Axes>"
      ]
     },
     "metadata": {
      "needs_background": "light"
     },
     "output_type": "display_data"
    }
   ],
   "source": [
    "viz = data[['MDVP:Fo(Hz)','MDVP:Fhi(Hz)','MDVP:Jitter(%)','MDVP:Jitter(Abs)','MDVP:RAP','Jitter:DDP','MDVP:Shimmer','MDVP:Shimmer(dB)','Shimmer:APQ3','Shimmer:APQ5','MDVP:APQ','Shimmer:DDA','NHR','HNR','RPDE','DFA','spread1','spread2','D2','PPE']]\n",
    "viz.hist()\n",
    "plt.show()"
   ]
  },
  {
   "cell_type": "markdown",
   "metadata": {},
   "source": [
    "Drop Name column as it is not useful in classification."
   ]
  },
  {
   "cell_type": "code",
   "execution_count": 7,
   "metadata": {},
   "outputs": [],
   "source": [
    "features = ['MDVP:Fo(Hz)','MDVP:Fhi(Hz)','MDVP:Jitter(%)','MDVP:Jitter(Abs)','MDVP:RAP','Jitter:DDP','MDVP:Shimmer','MDVP:Shimmer(dB)','Shimmer:APQ3','Shimmer:APQ5','MDVP:APQ','Shimmer:DDA','NHR','HNR','RPDE','DFA','spread1','spread2','D2','PPE']\n",
    "X = data.loc[:, features].values\n",
    "y = data.loc[:,['status']].values\n",
    "x = StandardScaler().fit_transform(X)"
   ]
  },
  {
   "cell_type": "markdown",
   "metadata": {},
   "source": [
    "## Visualization using PCA"
   ]
  },
  {
   "cell_type": "code",
   "execution_count": 8,
   "metadata": {},
   "outputs": [
    {
     "name": "stdout",
     "output_type": "stream",
     "text": [
      "     principal component 1  principal component 2\n",
      "0                 1.904785              -1.606964\n",
      "1                 4.544182              -1.849394\n",
      "2                 3.560883              -1.969380\n",
      "3                 3.936254              -2.084825\n",
      "4                 5.339941              -1.783302\n",
      "..                     ...                    ...\n",
      "190               0.192535               1.905458\n",
      "191              -0.577888               2.062209\n",
      "192               0.747520               2.514291\n",
      "193              -0.749188               2.840314\n",
      "194              -1.228448               1.898066\n",
      "\n",
      "[195 rows x 2 columns]\n"
     ]
    }
   ],
   "source": [
    "pca = PCA(n_components=2)\n",
    "principalComponents = pca.fit_transform(x)\n",
    "principalDf = pd.DataFrame(data = principalComponents\n",
    "             , columns = ['principal component 1', 'principal component 2'])\n",
    "print(principalDf)"
   ]
  },
  {
   "cell_type": "code",
   "execution_count": 9,
   "metadata": {},
   "outputs": [
    {
     "name": "stdout",
     "output_type": "stream",
     "text": [
      "     principal component 1  principal component 2  status\n",
      "0                 1.904785              -1.606964       1\n",
      "1                 4.544182              -1.849394       1\n",
      "2                 3.560883              -1.969380       1\n",
      "3                 3.936254              -2.084825       1\n",
      "4                 5.339941              -1.783302       1\n",
      "..                     ...                    ...     ...\n",
      "190               0.192535               1.905458       0\n",
      "191              -0.577888               2.062209       0\n",
      "192               0.747520               2.514291       0\n",
      "193              -0.749188               2.840314       0\n",
      "194              -1.228448               1.898066       0\n",
      "\n",
      "[195 rows x 3 columns]\n"
     ]
    }
   ],
   "source": [
    "finalDf = pd.concat([principalDf, data[['status']]], axis = 1)\n",
    "print(finalDf)"
   ]
  },
  {
   "cell_type": "code",
   "execution_count": 10,
   "metadata": {},
   "outputs": [
    {
     "data": {
      "image/png": "[encoded data removed]",
      "text/plain": [
       "<Figure size 576x576 with 1 Axes>"
      ]
     },
     "metadata": {
      "needs_background": "light"
     },
     "output_type": "display_data"
    }
   ],
   "source": [
    "fig = plt.figure(figsize = (8,8))\n",
    "ax = fig.add_subplot(1,1,1) \n",
    "ax.set_xlabel('Principal Component 1', fontsize = 15)\n",
    "ax.set_ylabel('Principal Component 2', fontsize = 15)\n",
    "ax.set_title('2 component PCA', fontsize = 20)\n",
    "targets = [0, 1]\n",
    "colors = ['r', 'g']\n",
    "for target, color in zip(targets,colors):\n",
    "    indicesToKeep = finalDf['status'] == target\n",
    "    ax.scatter(finalDf.loc[indicesToKeep, 'principal component 1']\n",
    "               , finalDf.loc[indicesToKeep, 'principal component 2']\n",
    "               , c = color\n",
    "               , s = 50)\n",
    "ax.legend(targets)\n",
    "ax.grid()"
   ]
  },
  {
   "cell_type": "code",
   "execution_count": 11,
   "metadata": {},
   "outputs": [
    {
     "name": "stdout",
     "output_type": "stream",
     "text": [
      "               name  MDVP:Fo(Hz)  MDVP:Fhi(Hz)  MDVP:Flo(Hz)  MDVP:Jitter(%)  \\\n",
      "0    phon_R01_S01_1      119.992       157.302        74.997         0.00784   \n",
      "1    phon_R01_S01_2      122.400       148.650       113.819         0.00968   \n",
      "2    phon_R01_S01_3      116.682       131.111       111.555         0.01050   \n",
      "3    phon_R01_S01_4      116.676       137.871       111.366         0.00997   \n",
      "4    phon_R01_S01_5      116.014       141.781       110.655         0.01284   \n",
      "..              ...          ...           ...           ...             ...   \n",
      "190  phon_R01_S50_2      174.188       230.978        94.261         0.00459   \n",
      "191  phon_R01_S50_3      209.516       253.017        89.488         0.00564   \n",
      "192  phon_R01_S50_4      174.688       240.005        74.287         0.01360   \n",
      "193  phon_R01_S50_5      198.764       396.961        74.904         0.00740   \n",
      "194  phon_R01_S50_6      214.289       260.277        77.973         0.00567   \n",
      "\n",
      "     MDVP:Jitter(Abs)  MDVP:RAP  MDVP:PPQ  Jitter:DDP  MDVP:Shimmer  ...  \\\n",
      "0             0.00007   0.00370   0.00554     0.01109       0.04374  ...   \n",
      "1             0.00008   0.00465   0.00696     0.01394       0.06134  ...   \n",
      "2             0.00009   0.00544   0.00781     0.01633       0.05233  ...   \n",
      "3             0.00009   0.00502   0.00698     0.01505       0.05492  ...   \n",
      "4             0.00011   0.00655   0.00908     0.01966       0.06425  ...   \n",
      "..                ...       ...       ...         ...           ...  ...   \n",
      "190           0.00003   0.00263   0.00259     0.00790       0.04087  ...   \n",
      "191           0.00003   0.00331   0.00292     0.00994       0.02751  ...   \n",
      "192           0.00008   0.00624   0.00564     0.01873       0.02308  ...   \n",
      "193           0.00004   0.00370   0.00390     0.01109       0.02296  ...   \n",
      "194           0.00003   0.00295   0.00317     0.00885       0.01884  ...   \n",
      "\n",
      "     Shimmer:DDA      NHR     HNR  status      RPDE       DFA   spread1  \\\n",
      "0        0.06545  0.02211  21.033       1  0.414783  0.815285 -4.813031   \n",
      "1        0.09403  0.01929  19.085       1  0.458359  0.819521 -4.075192   \n",
      "2        0.08270  0.01309  20.651       1  0.429895  0.825288 -4.443179   \n",
      "3        0.08771  0.01353  20.644       1  0.434969  0.819235 -4.117501   \n",
      "4        0.10470  0.01767  19.649       1  0.417356  0.823484 -3.747787   \n",
      "..           ...      ...     ...     ...       ...       ...       ...   \n",
      "190      0.07008  0.02764  19.517       0  0.448439  0.657899 -6.538586   \n",
      "191      0.04812  0.01810  19.147       0  0.431674  0.683244 -6.195325   \n",
      "192      0.03804  0.10715  17.883       0  0.407567  0.655683 -6.787197   \n",
      "193      0.03794  0.07223  19.020       0  0.451221  0.643956 -6.744577   \n",
      "194      0.03078  0.04398  21.209       0  0.462803  0.664357 -5.724056   \n",
      "\n",
      "      spread2        D2       PPE  \n",
      "0    0.266482  2.301442  0.284654  \n",
      "1    0.335590  2.486855  0.368674  \n",
      "2    0.311173  2.342259  0.332634  \n",
      "3    0.334147  2.405554  0.368975  \n",
      "4    0.234513  2.332180  0.410335  \n",
      "..        ...       ...       ...  \n",
      "190  0.121952  2.657476  0.133050  \n",
      "191  0.129303  2.784312  0.168895  \n",
      "192  0.158453  2.679772  0.131728  \n",
      "193  0.207454  2.138608  0.123306  \n",
      "194  0.190667  2.555477  0.148569  \n",
      "\n",
      "[195 rows x 24 columns]\n"
     ]
    }
   ],
   "source": [
    "print(data)"
   ]
  },
  {
   "cell_type": "code",
   "execution_count": 12,
   "metadata": {},
   "outputs": [],
   "source": [
    "def compute_metrics(y_test, yhat):\n",
    "    accuracy = accuracy_score(y_test, yhat)\n",
    "    precision = precision_score(y_test, yhat, average='weighted', labels=np.unique(yhat))\n",
    "    recall = recall_score(y_test, yhat, average='weighted')\n",
    "    f1 = f1_score(y_test, yhat, average='weighted')\n",
    "    \n",
    "    metrics = {\"accuracy\": accuracy,\n",
    "               \"precision\": precision,\n",
    "               \"recall\": recall,\n",
    "               \"f1\": f1}\n",
    "    \n",
    "    return metrics"
   ]
  },
  {
   "cell_type": "code",
   "execution_count": 13,
   "metadata": {},
   "outputs": [],
   "source": [
    "def print_metrics(metrics, classifier):\n",
    "    print(classifier + \" Accuracy = \" + str(metrics[\"accuracy\"]))\n",
    "    print(classifier + \" Precision = \" + str(metrics[\"precision\"]))\n",
    "    print(classifier + \" Recall = \" + str(metrics[\"recall\"]))\n",
    "    print(classifier + \" F1_score = \" + str(metrics[\"f1\"]))"
   ]
  },
  {
   "cell_type": "code",
   "execution_count": 14,
   "metadata": {},
   "outputs": [],
   "source": [
    "def svm_train(X, Y, c, kernel):\n",
    "    svm_model = SVC(kernel = kernel, C = c).fit(X, Y.ravel())\n",
    "    return svm_model"
   ]
  },
  {
   "cell_type": "code",
   "execution_count": 15,
   "metadata": {},
   "outputs": [],
   "source": [
    "def decision_tree_train(X, Y, depth):\n",
    "    dtree_model = DecisionTreeClassifier(max_depth = depth).fit(X, Y.ravel()) \n",
    "    return dtree_model"
   ]
  },
  {
   "cell_type": "code",
   "execution_count": 16,
   "metadata": {},
   "outputs": [],
   "source": [
    "def neural_network_train(X, Y, alpha, hidden_layers, activation, solver, max_it):\n",
    "    nn_model = MLPClassifier(alpha=alpha,\n",
    "                    hidden_layer_sizes=hidden_layers, activation=activation,solver=solver, max_iter=max_it)\n",
    "    nn_model = nn_model.fit(X, Y.ravel())\n",
    "    return nn_model"
   ]
  },
  {
   "cell_type": "code",
   "execution_count": 17,
   "metadata": {},
   "outputs": [],
   "source": [
    "def get_metrics_from_model(model, X_test, y_test):\n",
    "    predictions = model.predict(X_test)\n",
    "    metrics = compute_metrics(y_test, predictions)\n",
    "    return metrics"
   ]
  },
  {
   "cell_type": "code",
   "execution_count": 26,
   "metadata": {},
   "outputs": [],
   "source": [
    "def preceptron_train(X, Y):\n",
    "    preceptron_model = Perceptron(tol=1e-3)\n",
    "    preceptron_model.fit(X, Y.ravel())\n",
    "    return preceptron_model"
   ]
  },
  {
   "cell_type": "code",
   "execution_count": 21,
   "metadata": {},
   "outputs": [],
   "source": [
    "def naiive_bayes_train(X, Y):\n",
    "    gnb = GaussianNB()\n",
    "    gnb.fit(X, Y.ravel())\n",
    "    return gnb"
   ]
  },
  {
   "cell_type": "code",
   "execution_count": 22,
   "metadata": {},
   "outputs": [],
   "source": [
    "def lda_train(X, Y):\n",
    "    clf = LinearDiscriminantAnalysis()\n",
    "    clf.fit(X, Y.ravel())\n",
    "    return clf"
   ]
  },
  {
   "cell_type": "markdown",
   "metadata": {},
   "source": [
    "## Trying different classifiers and computing their metrics"
   ]
  },
  {
   "cell_type": "code",
   "execution_count": 28,
   "metadata": {},
   "outputs": [
    {
     "name": "stdout",
     "output_type": "stream",
     "text": [
      "Linear SVM Accuracy = 0.9152542372881356\n",
      "Linear SVM Precision = 0.9240819209039548\n",
      "Linear SVM Recall = 0.9152542372881356\n",
      "Linear SVM F1_score = 0.9097355877016894\n",
      "RBF SVM Accuracy = 0.7288135593220338\n",
      "RBF SVM Precision = 0.7288135593220338\n",
      "RBF SVM Recall = 0.7288135593220338\n",
      "RBF SVM F1_score = 0.614489863742107\n",
      "Decision Tree Accuracy = 0.7966101694915254\n",
      "Decision Tree Precision = 0.7966101694915254\n",
      "Decision Tree Recall = 0.7966101694915254\n",
      "Decision Tree F1_score = 0.7966101694915254\n",
      "Preceptron Accuracy = 0.7288135593220338\n",
      "Preceptron Precision = 0.7288135593220338\n",
      "Preceptron Recall = 0.7288135593220338\n",
      "Preceptron F1_score = 0.614489863742107\n",
      "Naiive Bayes Accuracy = 0.7796610169491526\n",
      "Naiive Bayes Precision = 0.8784336645236704\n",
      "Naiive Bayes Recall = 0.7796610169491526\n",
      "Naiive Bayes F1_score = 0.79186853442716\n",
      "LDA Accuracy = 0.9322033898305084\n",
      "LDA Precision = 0.9320419693301049\n",
      "LDA Recall = 0.9322033898305084\n",
      "LDA F1_score = 0.9307139188495119\n",
      "Neural Network 5 Accuracy = 0.8305084745762712\n",
      "Neural Network 5 Precision = 0.862488007675088\n",
      "Neural Network 5 Recall = 0.8305084745762712\n",
      "Neural Network 5 F1_score = 0.8008153569594247\n",
      "Neural Network 5 Accuracy = 0.7288135593220338\n",
      "Neural Network 5 Precision = 0.7288135593220338\n",
      "Neural Network 5 Recall = 0.7288135593220338\n",
      "Neural Network 5 F1_score = 0.614489863742107\n",
      "Neural Network 5 Accuracy = 0.4745762711864407\n",
      "Neural Network 5 Precision = 0.5330385654630311\n",
      "Neural Network 5 Recall = 0.4745762711864407\n",
      "Neural Network 5 F1_score = 0.4984514162802084\n"
     ]
    },
    {
     "name": "stderr",
     "output_type": "stream",
     "text": [
      "c:\\users\\20111\\appdata\\local\\programs\\python\\python37\\lib\\site-packages\\sklearn\\svm\\base.py:196: FutureWarning: The default value of gamma will change from 'auto' to 'scale' in version 0.22 to account better for unscaled features. Set gamma explicitly to 'auto' or 'scale' to avoid this warning.\n",
      "  \"avoid this warning.\", FutureWarning)\n",
      "c:\\users\\20111\\appdata\\local\\programs\\python\\python37\\lib\\site-packages\\sklearn\\metrics\\classification.py:1143: UndefinedMetricWarning: F-score is ill-defined and being set to 0.0 in labels with no predicted samples.\n",
      "  'precision', 'predicted', average, warn_for)\n",
      "c:\\users\\20111\\appdata\\local\\programs\\python\\python37\\lib\\site-packages\\sklearn\\metrics\\classification.py:1143: UndefinedMetricWarning: F-score is ill-defined and being set to 0.0 in labels with no predicted samples.\n",
      "  'precision', 'predicted', average, warn_for)\n",
      "c:\\users\\20111\\appdata\\local\\programs\\python\\python37\\lib\\site-packages\\sklearn\\metrics\\classification.py:1143: UndefinedMetricWarning: F-score is ill-defined and being set to 0.0 in labels with no predicted samples.\n",
      "  'precision', 'predicted', average, warn_for)\n"
     ]
    },
    {
     "name": "stdout",
     "output_type": "stream",
     "text": [
      "Neural Network 5 Accuracy = 0.7796610169491526\n",
      "Neural Network 5 Precision = 0.7683460607189421\n",
      "Neural Network 5 Recall = 0.7796610169491526\n",
      "Neural Network 5 F1_score = 0.7469883256409262\n",
      "Neural Network 8 Accuracy = 0.7457627118644068\n",
      "Neural Network 8 Precision = 0.7274011299435028\n",
      "Neural Network 8 Recall = 0.7457627118644068\n",
      "Neural Network 8 F1_score = 0.6754791447030518\n",
      "Neural Network 8 Accuracy = 0.7288135593220338\n",
      "Neural Network 8 Precision = 0.7288135593220338\n",
      "Neural Network 8 Recall = 0.7288135593220338\n",
      "Neural Network 8 F1_score = 0.614489863742107\n"
     ]
    },
    {
     "name": "stderr",
     "output_type": "stream",
     "text": [
      "c:\\users\\20111\\appdata\\local\\programs\\python\\python37\\lib\\site-packages\\sklearn\\metrics\\classification.py:1143: UndefinedMetricWarning: F-score is ill-defined and being set to 0.0 in labels with no predicted samples.\n",
      "  'precision', 'predicted', average, warn_for)\n"
     ]
    },
    {
     "name": "stdout",
     "output_type": "stream",
     "text": [
      "Neural Network 8 Accuracy = 0.864406779661017\n",
      "Neural Network 8 Precision = 0.8856763044200732\n",
      "Neural Network 8 Recall = 0.864406779661017\n",
      "Neural Network 8 F1_score = 0.8475778338742638\n",
      "Neural Network 8 Accuracy = 0.6949152542372882\n",
      "Neural Network 8 Precision = 0.6266922502931457\n",
      "Neural Network 8 Recall = 0.6949152542372882\n",
      "Neural Network 8 F1_score = 0.6414676425269644\n",
      "Neural Network 24 Accuracy = 0.7288135593220338\n",
      "Neural Network 24 Precision = 0.7288135593220338\n",
      "Neural Network 24 Recall = 0.7288135593220338\n",
      "Neural Network 24 F1_score = 0.614489863742107\n",
      "Neural Network 24 Accuracy = 0.7288135593220338\n",
      "Neural Network 24 Precision = 0.7288135593220338\n",
      "Neural Network 24 Recall = 0.7288135593220338\n",
      "Neural Network 24 F1_score = 0.614489863742107\n"
     ]
    },
    {
     "name": "stderr",
     "output_type": "stream",
     "text": [
      "c:\\users\\20111\\appdata\\local\\programs\\python\\python37\\lib\\site-packages\\sklearn\\metrics\\classification.py:1143: UndefinedMetricWarning: F-score is ill-defined and being set to 0.0 in labels with no predicted samples.\n",
      "  'precision', 'predicted', average, warn_for)\n",
      "c:\\users\\20111\\appdata\\local\\programs\\python\\python37\\lib\\site-packages\\sklearn\\metrics\\classification.py:1143: UndefinedMetricWarning: F-score is ill-defined and being set to 0.0 in labels with no predicted samples.\n",
      "  'precision', 'predicted', average, warn_for)\n"
     ]
    },
    {
     "name": "stdout",
     "output_type": "stream",
     "text": [
      "Neural Network 24 Accuracy = 0.864406779661017\n",
      "Neural Network 24 Precision = 0.8856763044200732\n",
      "Neural Network 24 Recall = 0.864406779661017\n",
      "Neural Network 24 F1_score = 0.8475778338742638\n",
      "Neural Network 24 Accuracy = 0.8813559322033898\n",
      "Neural Network 24 Precision = 0.8979661016949152\n",
      "Neural Network 24 Recall = 0.8813559322033898\n",
      "Neural Network 24 F1_score = 0.8692108620375433\n",
      "Neural Network (8, 8) Accuracy = 0.2711864406779661\n",
      "Neural Network (8, 8) Precision = 0.2711864406779661\n",
      "Neural Network (8, 8) Recall = 0.2711864406779661\n",
      "Neural Network (8, 8) F1_score = 0.11570621468926555\n"
     ]
    },
    {
     "name": "stderr",
     "output_type": "stream",
     "text": [
      "c:\\users\\20111\\appdata\\local\\programs\\python\\python37\\lib\\site-packages\\sklearn\\metrics\\classification.py:1143: UndefinedMetricWarning: F-score is ill-defined and being set to 0.0 in labels with no predicted samples.\n",
      "  'precision', 'predicted', average, warn_for)\n"
     ]
    },
    {
     "name": "stdout",
     "output_type": "stream",
     "text": [
      "Neural Network (8, 8) Accuracy = 0.9322033898305084\n",
      "Neural Network (8, 8) Precision = 0.9320419693301049\n",
      "Neural Network (8, 8) Recall = 0.9322033898305084\n",
      "Neural Network (8, 8) F1_score = 0.9307139188495119\n",
      "Neural Network (8, 8) Accuracy = 0.5254237288135594\n",
      "Neural Network (8, 8) Precision = 0.5588005215123859\n",
      "Neural Network (8, 8) Recall = 0.5254237288135594\n",
      "Neural Network (8, 8) F1_score = 0.5402140462082587\n",
      "Neural Network (8, 8) Accuracy = 0.7288135593220338\n",
      "Neural Network (8, 8) Precision = 0.6726137377341659\n",
      "Neural Network (8, 8) Recall = 0.7288135593220338\n",
      "Neural Network (8, 8) F1_score = 0.6423352165725046\n"
     ]
    },
    {
     "name": "stderr",
     "output_type": "stream",
     "text": [
      "c:\\users\\20111\\appdata\\local\\programs\\python\\python37\\lib\\site-packages\\sklearn\\neural_network\\multilayer_perceptron.py:562: ConvergenceWarning: Stochastic Optimizer: Maximum iterations (1500) reached and the optimization hasn't converged yet.\n",
      "  % self.max_iter, ConvergenceWarning)\n"
     ]
    },
    {
     "name": "stdout",
     "output_type": "stream",
     "text": [
      "Neural Network (8, 8, 8) Accuracy = 0.847457627118644\n",
      "Neural Network (8, 8, 8) Precision = 0.8423558755172609\n",
      "Neural Network (8, 8, 8) Recall = 0.847457627118644\n",
      "Neural Network (8, 8, 8) F1_score = 0.8421384432521885\n"
     ]
    },
    {
     "name": "stderr",
     "output_type": "stream",
     "text": [
      "c:\\users\\20111\\appdata\\local\\programs\\python\\python37\\lib\\site-packages\\sklearn\\metrics\\classification.py:1143: UndefinedMetricWarning: F-score is ill-defined and being set to 0.0 in labels with no predicted samples.\n",
      "  'precision', 'predicted', average, warn_for)\n"
     ]
    },
    {
     "name": "stdout",
     "output_type": "stream",
     "text": [
      "Neural Network (8, 8, 8) Accuracy = 0.7288135593220338\n",
      "Neural Network (8, 8, 8) Precision = 0.7288135593220338\n",
      "Neural Network (8, 8, 8) Recall = 0.7288135593220338\n",
      "Neural Network (8, 8, 8) F1_score = 0.614489863742107\n",
      "Neural Network (8, 8, 8) Accuracy = 0.8813559322033898\n",
      "Neural Network (8, 8, 8) Precision = 0.8790601439827673\n",
      "Neural Network (8, 8, 8) Recall = 0.8813559322033898\n",
      "Neural Network (8, 8, 8) F1_score = 0.8772187891961467\n"
     ]
    },
    {
     "name": "stderr",
     "output_type": "stream",
     "text": [
      "c:\\users\\20111\\appdata\\local\\programs\\python\\python37\\lib\\site-packages\\sklearn\\metrics\\classification.py:1143: UndefinedMetricWarning: F-score is ill-defined and being set to 0.0 in labels with no predicted samples.\n",
      "  'precision', 'predicted', average, warn_for)\n"
     ]
    },
    {
     "name": "stdout",
     "output_type": "stream",
     "text": [
      "Neural Network (8, 8, 8) Accuracy = 0.7288135593220338\n",
      "Neural Network (8, 8, 8) Precision = 0.7288135593220338\n",
      "Neural Network (8, 8, 8) Recall = 0.7288135593220338\n",
      "Neural Network (8, 8, 8) F1_score = 0.614489863742107\n",
      "Neural Network (8, 8, 8, 8) Accuracy = 0.7796610169491526\n",
      "Neural Network (8, 8, 8, 8) Precision = 0.7647342064714946\n",
      "Neural Network (8, 8, 8, 8) Recall = 0.7796610169491526\n",
      "Neural Network (8, 8, 8, 8) F1_score = 0.7653125280243925\n",
      "Neural Network (8, 8, 8, 8) Accuracy = 0.7288135593220338\n",
      "Neural Network (8, 8, 8, 8) Precision = 0.7288135593220338\n",
      "Neural Network (8, 8, 8, 8) Recall = 0.7288135593220338\n",
      "Neural Network (8, 8, 8, 8) F1_score = 0.614489863742107\n"
     ]
    },
    {
     "name": "stderr",
     "output_type": "stream",
     "text": [
      "c:\\users\\20111\\appdata\\local\\programs\\python\\python37\\lib\\site-packages\\sklearn\\metrics\\classification.py:1143: UndefinedMetricWarning: F-score is ill-defined and being set to 0.0 in labels with no predicted samples.\n",
      "  'precision', 'predicted', average, warn_for)\n",
      "c:\\users\\20111\\appdata\\local\\programs\\python\\python37\\lib\\site-packages\\sklearn\\neural_network\\multilayer_perceptron.py:562: ConvergenceWarning: Stochastic Optimizer: Maximum iterations (1500) reached and the optimization hasn't converged yet.\n",
      "  % self.max_iter, ConvergenceWarning)\n"
     ]
    },
    {
     "name": "stdout",
     "output_type": "stream",
     "text": [
      "Neural Network (8, 8, 8, 8) Accuracy = 0.8305084745762712\n",
      "Neural Network (8, 8, 8, 8) Precision = 0.8385007578889347\n",
      "Neural Network (8, 8, 8, 8) Recall = 0.8305084745762712\n",
      "Neural Network (8, 8, 8, 8) F1_score = 0.8334757631866306\n",
      "Neural Network (8, 8, 8, 8) Accuracy = 0.9152542372881356\n",
      "Neural Network (8, 8, 8, 8) Precision = 0.915764412448274\n",
      "Neural Network (8, 8, 8, 8) Recall = 0.9152542372881356\n",
      "Neural Network (8, 8, 8, 8) F1_score = 0.9122991351401046\n",
      "Neural Network (24, 24, 24) Accuracy = 0.8305084745762712\n",
      "Neural Network (24, 24, 24) Precision = 0.8305084745762712\n",
      "Neural Network (24, 24, 24) Recall = 0.8305084745762712\n",
      "Neural Network (24, 24, 24) F1_score = 0.8305084745762712\n",
      "Neural Network (24, 24, 24) Accuracy = 0.7288135593220338\n",
      "Neural Network (24, 24, 24) Precision = 0.7288135593220338\n",
      "Neural Network (24, 24, 24) Recall = 0.7288135593220338\n",
      "Neural Network (24, 24, 24) F1_score = 0.614489863742107\n"
     ]
    },
    {
     "name": "stderr",
     "output_type": "stream",
     "text": [
      "c:\\users\\20111\\appdata\\local\\programs\\python\\python37\\lib\\site-packages\\sklearn\\metrics\\classification.py:1143: UndefinedMetricWarning: F-score is ill-defined and being set to 0.0 in labels with no predicted samples.\n",
      "  'precision', 'predicted', average, warn_for)\n"
     ]
    },
    {
     "name": "stdout",
     "output_type": "stream",
     "text": [
      "Neural Network (24, 24, 24) Accuracy = 0.8813559322033898\n",
      "Neural Network (24, 24, 24) Precision = 0.8841333143426863\n",
      "Neural Network (24, 24, 24) Recall = 0.8813559322033898\n",
      "Neural Network (24, 24, 24) F1_score = 0.882455663313091\n",
      "Neural Network (24, 24, 24) Accuracy = 0.7288135593220338\n",
      "Neural Network (24, 24, 24) Precision = 0.7288135593220338\n",
      "Neural Network (24, 24, 24) Recall = 0.7288135593220338\n",
      "Neural Network (24, 24, 24) F1_score = 0.614489863742107\n"
     ]
    },
    {
     "name": "stderr",
     "output_type": "stream",
     "text": [
      "c:\\users\\20111\\appdata\\local\\programs\\python\\python37\\lib\\site-packages\\sklearn\\metrics\\classification.py:1143: UndefinedMetricWarning: F-score is ill-defined and being set to 0.0 in labels with no predicted samples.\n",
      "  'precision', 'predicted', average, warn_for)\n"
     ]
    },
    {
     "name": "stdout",
     "output_type": "stream",
     "text": [
      "Neural Network (24, 24, 24, 8) Accuracy = 0.8983050847457628\n",
      "Neural Network (24, 24, 24, 8) Precision = 0.8983050847457628\n",
      "Neural Network (24, 24, 24, 8) Recall = 0.8983050847457628\n",
      "Neural Network (24, 24, 24, 8) F1_score = 0.8983050847457628\n",
      "Neural Network (24, 24, 24, 8) Accuracy = 0.7288135593220338\n",
      "Neural Network (24, 24, 24, 8) Precision = 0.7288135593220338\n",
      "Neural Network (24, 24, 24, 8) Recall = 0.7288135593220338\n",
      "Neural Network (24, 24, 24, 8) F1_score = 0.614489863742107\n"
     ]
    },
    {
     "name": "stderr",
     "output_type": "stream",
     "text": [
      "c:\\users\\20111\\appdata\\local\\programs\\python\\python37\\lib\\site-packages\\sklearn\\metrics\\classification.py:1143: UndefinedMetricWarning: F-score is ill-defined and being set to 0.0 in labels with no predicted samples.\n",
      "  'precision', 'predicted', average, warn_for)\n"
     ]
    },
    {
     "name": "stdout",
     "output_type": "stream",
     "text": [
      "Neural Network (24, 24, 24, 8) Accuracy = 0.8813559322033898\n",
      "Neural Network (24, 24, 24, 8) Precision = 0.8841333143426863\n",
      "Neural Network (24, 24, 24, 8) Recall = 0.8813559322033898\n",
      "Neural Network (24, 24, 24, 8) F1_score = 0.882455663313091\n",
      "Neural Network (24, 24, 24, 8) Accuracy = 0.864406779661017\n",
      "Neural Network (24, 24, 24, 8) Precision = 0.8856763044200732\n",
      "Neural Network (24, 24, 24, 8) Recall = 0.864406779661017\n",
      "Neural Network (24, 24, 24, 8) F1_score = 0.8475778338742638\n",
      "Neural Network (24, 24, 24, 24) Accuracy = 0.7288135593220338\n",
      "Neural Network (24, 24, 24, 24) Precision = 0.7288135593220338\n",
      "Neural Network (24, 24, 24, 24) Recall = 0.7288135593220338\n",
      "Neural Network (24, 24, 24, 24) F1_score = 0.614489863742107\n"
     ]
    },
    {
     "name": "stderr",
     "output_type": "stream",
     "text": [
      "c:\\users\\20111\\appdata\\local\\programs\\python\\python37\\lib\\site-packages\\sklearn\\metrics\\classification.py:1143: UndefinedMetricWarning: F-score is ill-defined and being set to 0.0 in labels with no predicted samples.\n",
      "  'precision', 'predicted', average, warn_for)\n"
     ]
    },
    {
     "name": "stdout",
     "output_type": "stream",
     "text": [
      "Neural Network (24, 24, 24, 24) Accuracy = 0.847457627118644\n",
      "Neural Network (24, 24, 24, 24) Precision = 0.8423558755172609\n",
      "Neural Network (24, 24, 24, 24) Recall = 0.847457627118644\n",
      "Neural Network (24, 24, 24, 24) F1_score = 0.8421384432521885\n",
      "Neural Network (24, 24, 24, 24) Accuracy = 0.7288135593220338\n",
      "Neural Network (24, 24, 24, 24) Precision = 0.7288135593220338\n",
      "Neural Network (24, 24, 24, 24) Recall = 0.7288135593220338\n",
      "Neural Network (24, 24, 24, 24) F1_score = 0.614489863742107\n"
     ]
    },
    {
     "name": "stderr",
     "output_type": "stream",
     "text": [
      "c:\\users\\20111\\appdata\\local\\programs\\python\\python37\\lib\\site-packages\\sklearn\\metrics\\classification.py:1143: UndefinedMetricWarning: F-score is ill-defined and being set to 0.0 in labels with no predicted samples.\n",
      "  'precision', 'predicted', average, warn_for)\n"
     ]
    },
    {
     "name": "stdout",
     "output_type": "stream",
     "text": [
      "Neural Network (24, 24, 24, 24) Accuracy = 0.8305084745762712\n",
      "Neural Network (24, 24, 24, 24) Precision = 0.8374875373878364\n",
      "Neural Network (24, 24, 24, 24) Recall = 0.8305084745762712\n",
      "Neural Network (24, 24, 24, 24) F1_score = 0.8094722923428297\n",
      "0.9322033898305084 (0.01, (8, 8))\n"
     ]
    }
   ],
   "source": [
    "#partition dataset into  70% train 3o% test\n",
    "X_train, X_test, y_train, y_test = train_test_split(X, y,test_size=0.3, random_state = 10)\n",
    "\n",
    "#Linear SVM has high accuracy (the decision boundary is mostly linear)\n",
    "svm_model_linear = svm_train(X_train, y_train, 0.1, 'linear')\n",
    "svm_linear_metrics = get_metrics_from_model(svm_model_linear, X_test, y_test)\n",
    "print_metrics(svm_linear_metrics, \"Linear SVM\")\n",
    "\n",
    "#SVM with rbf has very low performance compared to other classifiers 70% accuracy\n",
    "svm_model_rbf = svm_train(X_train, y_train, 0.1, 'rbf')\n",
    "svm_rbf_metrics = get_metrics_from_model(svm_model_rbf, X_test, y_test)\n",
    "print_metrics(svm_rbf_metrics, \"RBF SVM\")\n",
    "\n",
    "#Decision Tree has poor performance 81% accuracy\n",
    "dtree_model = decision_tree_train(X_train, y_train, 3)\n",
    "dtree_metrics = get_metrics_from_model(dtree_model, X_test, y_test)\n",
    "print_metrics(dtree_metrics, \"Decision Tree\")\n",
    "\n",
    "#Preceptron \n",
    "preceptron = preceptron_train(X_train, y_train)\n",
    "preceptron_metrics = get_metrics_from_model(preceptron, X_test, y_test)\n",
    "print_metrics(preceptron_metrics, \"Preceptron\")\n",
    "\n",
    "#Naiive Bayes\n",
    "naiive_bayes = naiive_bayes_train(X_train, y_train)\n",
    "naiive_bayes_metrics = get_metrics_from_model(naiive_bayes, X_test, y_test)\n",
    "print_metrics(naiive_bayes_metrics, \"Naiive Bayes\")\n",
    "\n",
    "#LDA\n",
    "lda = lda_train(X_train, y_train)\n",
    "lda_metrics = get_metrics_from_model(lda, X_test, y_test)\n",
    "print_metrics(lda_metrics, \"LDA\")\n",
    "\n",
    "#trying neural network with different hyper parameters\n",
    "#Neural network can achieve best accuracy if hyper parameters were correct\n",
    "#Accuracy reaches 95%\n",
    "best_acc = 0\n",
    "hidden_layer_sizes = [(5), (8), (24), (8,8), (8,8,8),(8,8,8,8), (24,24,24),(24,24,24,8),(24,24,24,24)]\n",
    "alphas = [0.1, 0.01, 1, 2]\n",
    "for size in hidden_layer_sizes:\n",
    "    for alpha in alphas:\n",
    "            nn_model = neural_network_train(X_train, y_train, alpha, size, \"relu\", \"adam\", 1500)\n",
    "            nn_metrics = get_metrics_from_model(nn_model, X_test, y_test)\n",
    "            print_metrics(nn_metrics, \"Neural Network \" + str(size))\n",
    "            accuracy = nn_metrics[\"accuracy\"]\n",
    "            if accuracy > best_acc:\n",
    "                 best_acc = accuracy\n",
    "                 hyper_parameters = alpha, size\n",
    "print(best_acc, hyper_parameters)"
   ]
  },
  {
   "cell_type": "code",
   "execution_count": null,
   "metadata": {},
   "outputs": [],
   "source": []
  }
 ],
 "metadata": {
  "kernelspec": {
   "display_name": "Python 3",
   "language": "python",
   "name": "python3"
  },
  "language_info": {
   "codemirror_mode": {
    "name": "ipython",
    "version": 3
   },
   "file_extension": ".py",
   "mimetype": "text/x-python",
   "name": "python",
   "nbconvert_exporter": "python",
   "pygments_lexer": "ipython3",
   "version": "3.7.7"
  }
 },
 "nbformat": 4,
 "nbformat_minor": 4
}
